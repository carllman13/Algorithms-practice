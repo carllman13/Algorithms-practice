{
 "cells": [
  {
   "cell_type": "code",
   "execution_count": 1,
   "id": "923a29bf",
   "metadata": {},
   "outputs": [
    {
     "name": "stdout",
     "output_type": "stream",
     "text": [
      "1213\n"
     ]
    }
   ],
   "source": [
    "import heapq\n",
    "# Read the numbers from the file\n",
    "with open('Median.txt', 'r') as f:\n",
    "    numbers = [int(line.strip()) for line in f]\n",
    "\n",
    "def median_maintenance(numbers):\n",
    "    # Two heaps: `lo` is a max-heap for the lower half, and `hi` is a min-heap for the upper half.\n",
    "    lo, hi = [], []\n",
    "    medians = []\n",
    "    for num in numbers:\n",
    "        # Push to one of the heaps\n",
    "        #if numbers not in lower half, or if it is smaller than the largest number in the lower half(the max heap). \n",
    "        if not lo or num < -lo[0]:  \n",
    "            heapq.heappush(lo, -num)\n",
    "        else:\n",
    "            heapq.heappush(hi, num)\n",
    "        \n",
    "        # Rebalance the heaps\n",
    "        while len(lo) > len(hi) + 1:\n",
    "            #moves the largest element in the lower max tree to the smallest element in the upper min tree.\n",
    "            heapq.heappush(hi, -heapq.heappop(lo))\n",
    "        while len(hi) > len(lo):\n",
    "            heapq.heappush(lo, -heapq.heappop(hi))\n",
    "\n",
    "        # The current median is the maximum of the max-heap `lo`\n",
    "        medians.append(-lo[0])\n",
    "\n",
    "    return sum(medians) % 10000\n",
    "\n",
    "# Compute and print the result\n",
    "print(median_maintenance(numbers))\n"
   ]
  }
 ],
 "metadata": {
  "kernelspec": {
   "display_name": "Python 3 (ipykernel)",
   "language": "python",
   "name": "python3"
  },
  "language_info": {
   "codemirror_mode": {
    "name": "ipython",
    "version": 3
   },
   "file_extension": ".py",
   "mimetype": "text/x-python",
   "name": "python",
   "nbconvert_exporter": "python",
   "pygments_lexer": "ipython3",
   "version": "3.11.4"
  }
 },
 "nbformat": 4,
 "nbformat_minor": 5
}
