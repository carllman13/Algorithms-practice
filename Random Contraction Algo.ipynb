{
 "cells": [
  {
   "cell_type": "code",
   "execution_count": 345,
   "id": "e140ba55",
   "metadata": {
    "scrolled": true
   },
   "outputs": [
    {
     "name": "stdout",
     "output_type": "stream",
     "text": [
      "17\n"
     ]
    }
   ],
   "source": [
    "import random\n",
    "import copy\n",
    "\n",
    "def karger_min_cut(graph):\n",
    "    while len(graph) > 2:\n",
    "        u = random.choice(list(graph.keys()))\n",
    "        v = random.choice(graph[u])\n",
    "        contract(graph, u, v)\n",
    "    return len(graph[list(graph.keys())[0]])\n",
    "\n",
    "def contract(graph, u, v):\n",
    "    # Move all edges from v to u\n",
    "    for vertex in graph[v]:\n",
    "        if vertex != u:  # Avoid self-loops\n",
    "            graph[u].append(vertex)\n",
    "        graph[vertex].remove(v)\n",
    "        if vertex != u:  # Again, avoid self-loops\n",
    "            graph[vertex].append(u)\n",
    "    \n",
    "    # Remove the contracted vertex 'v' from the graph\n",
    "    del graph[v]\n",
    "\n",
    "def read_graph(file_name):\n",
    "    with open(file_name, 'r') as f:\n",
    "        lines = f.readlines()\n",
    "        graph = {int(line.split()[0]): [int(x) for x in line.split()[1:]] for line in lines}\n",
    "    return graph\n",
    "\n",
    "if __name__ == \"__main__\":\n",
    "    graph = read_graph('kargerMinCut.txt')\n",
    "    num_trials = 200  # Adjust this number if you want more iterations\n",
    "    min_cut_val = float('inf')\n",
    "    \n",
    "    for i in range(num_trials):\n",
    "        graph_copy = copy.deepcopy(graph)\n",
    "        cut_val = karger_min_cut(graph_copy)\n",
    "        if cut_val < min_cut_val:\n",
    "            min_cut_val = cut_val\n",
    "    print(min_cut_val)\n"
   ]
  }
 ],
 "metadata": {
  "kernelspec": {
   "display_name": "Python 3 (ipykernel)",
   "language": "python",
   "name": "python3"
  },
  "language_info": {
   "codemirror_mode": {
    "name": "ipython",
    "version": 3
   },
   "file_extension": ".py",
   "mimetype": "text/x-python",
   "name": "python",
   "nbconvert_exporter": "python",
   "pygments_lexer": "ipython3",
   "version": "3.11.4"
  }
 },
 "nbformat": 4,
 "nbformat_minor": 5
}
