{
 "cells": [
  {
   "cell_type": "code",
   "execution_count": 1,
   "id": "73bcd207",
   "metadata": {},
   "outputs": [],
   "source": [
    "import sys\n",
    "sys.setrecursionlimit(1000000)\n",
    "from collections import defaultdict"
   ]
  },
  {
   "cell_type": "code",
   "execution_count": 2,
   "id": "98535152",
   "metadata": {},
   "outputs": [
    {
     "name": "stdout",
     "output_type": "stream",
     "text": [
      "[434821, 968, 459, 313, 211]\n"
     ]
    }
   ],
   "source": [
    "class Graph:\n",
    "    def __init__(self, vertices):\n",
    "        self.V = vertices   #number of vertices\n",
    "        self.graph = defaultdict(list)\n",
    "        self.stack = []\n",
    "\n",
    "    def add_edge(self, u, v):\n",
    "        self.graph[u].append(v)\n",
    "\n",
    "    def dfs(self, v, visited, graph=None):\n",
    "        if graph is None:\n",
    "            graph = self.graph\n",
    "        visited[v] = True\n",
    "        for i in graph[v]:\n",
    "            if not visited[i]:\n",
    "                self.dfs(i, visited, graph)\n",
    "        self.stack.append(v)\n",
    "\n",
    "    def get_transpose(self):\n",
    "        gr = Graph(self.V)\n",
    "        for i in self.graph:\n",
    "            for j in self.graph[i]:\n",
    "                gr.add_edge(j, i)\n",
    "        return gr\n",
    "\n",
    "    def print_scc(self):\n",
    "        stack = []\n",
    "        visited = [False] * (self.V + 1)\n",
    "        for i in range(1, self.V + 1):\n",
    "            if not visited[i]:\n",
    "                self.dfs(i, visited)  #traverse once with DFS, with stack being modified\n",
    "        gr = self.get_transpose()\n",
    "        visited = [False] * (self.V + 1)   #traverse the reversed graph again with DFS\n",
    "        scc_sizes = []\n",
    "        while self.stack:\n",
    "            i = self.stack.pop()     #on the 2nd DFS, start from the one with the highest order in the first DFS\n",
    "            if not visited[i]:\n",
    "                scc = []\n",
    "                gr.dfs(i, visited, gr.graph)\n",
    "                scc_sizes.append(len(gr.stack))   #keep running DFS until u stop. then u get one SCC.\n",
    "                gr.stack.clear()   #clear that specific instance of DFS, before runnning DFS again \n",
    "        scc_sizes.sort(reverse=True)\n",
    "        return scc_sizes[:5]\n",
    "\n",
    "if __name__ == \"__main__\":\n",
    "    with open('SCC.txt', 'r') as file:\n",
    "        lines = file.readlines()\n",
    "        max_vertex = 875714\n",
    "        g = Graph(max_vertex)\n",
    "        for line in lines:\n",
    "            u, v = map(int, line.strip().split())\n",
    "            g.add_edge(u, v)\n",
    "\n",
    "    result = g.print_scc()\n",
    "    for _ in range(5 - len(result)):\n",
    "        result.append(0)\n",
    "    print(result)\n"
   ]
  }
 ],
 "metadata": {
  "kernelspec": {
   "display_name": "Python 3 (ipykernel)",
   "language": "python",
   "name": "python3"
  },
  "language_info": {
   "codemirror_mode": {
    "name": "ipython",
    "version": 3
   },
   "file_extension": ".py",
   "mimetype": "text/x-python",
   "name": "python",
   "nbconvert_exporter": "python",
   "pygments_lexer": "ipython3",
   "version": "3.11.4"
  }
 },
 "nbformat": 4,
 "nbformat_minor": 5
}
