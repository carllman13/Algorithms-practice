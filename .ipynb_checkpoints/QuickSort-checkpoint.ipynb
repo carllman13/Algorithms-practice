{
 "cells": [
  {
   "cell_type": "code",
   "execution_count": 224,
   "id": "727a7240",
   "metadata": {},
   "outputs": [],
   "source": [
    "import random\n",
    "with open('QuickSort.txt', 'r') as file:\n",
    "    # Use list comprehension to read lines, strip whitespace, and convert to integer\n",
    "    numbers = [int(line.strip()) for line in file]"
   ]
  },
  {
   "cell_type": "code",
   "execution_count": 233,
   "id": "7f0b27b4",
   "metadata": {},
   "outputs": [
    {
     "name": "stdout",
     "output_type": "stream",
     "text": [
      "Comparisons using first element as pivot: 162085\n",
      "Comparisons using last element as pivot: 164123\n",
      "Comparisons using median-of-three as pivot: 138382\n"
     ]
    }
   ],
   "source": [
    "def quicksort(arr, l, r, pivot_choice):\n",
    "    if l >= r:\n",
    "        return 0  # No comparison required\n",
    "\n",
    "    # Pivot selection based on choice\n",
    "    if pivot_choice == 'first':\n",
    "        pivot_index = l\n",
    "    elif pivot_choice == 'last':\n",
    "        pivot_index = r\n",
    "        arr[l], arr[r] = arr[r], arr[l]  # Swap last with first\n",
    "    elif pivot_choice == 'median':\n",
    "        mid = (l + r) // 2\n",
    "        pivot_candidates = [(arr[l], l), (arr[mid], mid), (arr[r], r)]\n",
    "        pivot_candidates.sort(key=lambda x: x[0])\n",
    "        pivot_index = pivot_candidates[1][1]\n",
    "        arr[l], arr[pivot_index] = arr[pivot_index], arr[l]  # Swap median with first\n",
    "    \n",
    "    # Partition around the pivot\n",
    "    pivot_final_index = partition(arr, l, r)\n",
    "\n",
    "    left_comparisons = quicksort(arr, l, pivot_final_index - 1, pivot_choice)\n",
    "    right_comparisons = quicksort(arr, pivot_final_index + 1, r, pivot_choice)\n",
    "\n",
    "    return r - l + left_comparisons + right_comparisons  # Add m-1 comparisons\n",
    "\n",
    "def partition(arr, l, r):\n",
    "    pivot = arr[l]\n",
    "    i = l + 1\n",
    "    for j in range(l + 1, r + 1):  # Including r in the loop\n",
    "        if arr[j] < pivot:\n",
    "            arr[i], arr[j] = arr[j], arr[i]\n",
    "            i += 1\n",
    "    arr[l], arr[i - 1] = arr[i - 1], arr[l]  # Place the pivot in its correct position\n",
    "    return i - 1\n",
    "\n",
    "# Using first element as pivot\n",
    "arr_copy = numbers.copy()\n",
    "comparisons_first = quicksort(arr_copy, 0, len(arr_copy) - 1, 'first')\n",
    "\n",
    "# Using last element as pivot\n",
    "arr_copy = numbers.copy()\n",
    "comparisons_last = quicksort(arr_copy, 0, len(arr_copy) - 1, 'last')\n",
    "\n",
    "# Using median-of-three as pivot\n",
    "arr_copy = numbers.copy()\n",
    "comparisons_median = quicksort(arr_copy, 0, len(arr_copy) - 1, 'median')\n",
    "\n",
    "print(f\"Comparisons using first element as pivot: {comparisons_first}\")\n",
    "print(f\"Comparisons using last element as pivot: {comparisons_last}\")\n",
    "print(f\"Comparisons using median-of-three as pivot: {comparisons_median}\")\n"
   ]
  }
 ],
 "metadata": {
  "kernelspec": {
   "display_name": "Python 3 (ipykernel)",
   "language": "python",
   "name": "python3"
  },
  "language_info": {
   "codemirror_mode": {
    "name": "ipython",
    "version": 3
   },
   "file_extension": ".py",
   "mimetype": "text/x-python",
   "name": "python",
   "nbconvert_exporter": "python",
   "pygments_lexer": "ipython3",
   "version": "3.11.4"
  }
 },
 "nbformat": 4,
 "nbformat_minor": 5
}
