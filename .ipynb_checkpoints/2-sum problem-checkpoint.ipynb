{
 "cells": [
  {
   "cell_type": "code",
   "execution_count": null,
   "id": "6f39c8e3",
   "metadata": {},
   "outputs": [],
   "source": [
    "f = open('algo1-programming_prob-2sum.txt', 'r')\n",
    "numbers = list(map(int, f.readlines()))\n",
    "\n",
    "buckets = 9999999   #max(maxnumber,|minnumber|)/10k = 10M. 10K is the size of each of our bucket. \n",
    "hashtable = {}\n",
    "\n",
    "for i in range(-buckets, buckets+1):\n",
    "    hashtable[i] = []\n",
    "# Remove duplicates from the list of numbers\n",
    "numbers = list(set(numbers))\n",
    "\n",
    "# Populate the hash table with numbers based on their range\n",
    "for i in numbers:\n",
    "    bucket_key = i // 10000\n",
    "    hashtable[bucket_key].append(i)\n",
    "\n",
    "t = []\n",
    "for i in range(-buckets, buckets+1):\n",
    "    if len(hashtable[i]) > 0:\n",
    "        #complement will be in the opposing target if we want sum to fall btwn +-10k\n",
    "        candidates = hashtable[-i-2]+hashtable[-i-1]+hashtable[-i]+hashtable[-i+1]\n",
    "        for x in hashtable[i]:\n",
    "            for y in candidates:\n",
    "                if x != y and abs(x+y) <= 10000 and x+y not in t:\n",
    "                    t += [x+y]\n"
   ]
  },
  {
   "cell_type": "code",
   "execution_count": null,
   "id": "3732132a",
   "metadata": {},
   "outputs": [],
   "source": [
    "print(len(t))"
   ]
  }
 ],
 "metadata": {
  "kernelspec": {
   "display_name": "Python 3 (ipykernel)",
   "language": "python",
   "name": "python3"
  },
  "language_info": {
   "codemirror_mode": {
    "name": "ipython",
    "version": 3
   },
   "file_extension": ".py",
   "mimetype": "text/x-python",
   "name": "python",
   "nbconvert_exporter": "python",
   "pygments_lexer": "ipython3",
   "version": "3.11.4"
  }
 },
 "nbformat": 4,
 "nbformat_minor": 5
}
