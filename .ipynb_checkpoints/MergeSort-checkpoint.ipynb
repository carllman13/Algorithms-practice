{
 "cells": [
  {
   "cell_type": "code",
   "execution_count": 8,
   "id": "c79f4a93",
   "metadata": {},
   "outputs": [],
   "source": [
    "import numpy as np\n",
    "with open('MergeSort.txt', 'r') as file:\n",
    "    # Use list comprehension to read lines, strip whitespace, and convert to integer\n",
    "    numbers = [int(line.strip()) for line in file]"
   ]
  },
  {
   "cell_type": "code",
   "execution_count": 35,
   "id": "173313ba",
   "metadata": {},
   "outputs": [],
   "source": [
    "def countinv(arr,length):\n",
    "    if length<=1:\n",
    "        return arr, 0\n",
    "    else:\n",
    "        mid = length//2\n",
    "        middle_num = arr[mid]\n",
    "        left = arr[:mid]\n",
    "        right = arr[mid:]\n",
    "        left, x = countinv(left,len(left))\n",
    "        right, y = countinv(right,len(right))\n",
    "        \n",
    "        merged_arr = []\n",
    "        z=0\n",
    "        i,j = (0,0)\n",
    "        while i<len(left) and j < len(right):\n",
    "            if left[i] < right [j]:\n",
    "                merged_arr.append(left[i])\n",
    "                i+=1\n",
    "            else:\n",
    "                merged_arr.append(right[j])\n",
    "                j+=1\n",
    "                z+= len(left)-i\n",
    "        \n",
    "        merged_arr.extend(left[i:])\n",
    "        merged_arr.extend(right[j:])\n",
    "    return merged_arr, x+y+z\n",
    "\n",
    "    "
   ]
  },
  {
   "cell_type": "code",
   "execution_count": 36,
   "id": "7cb89232",
   "metadata": {},
   "outputs": [
    {
     "name": "stdout",
     "output_type": "stream",
     "text": [
      "2407905288\n"
     ]
    }
   ],
   "source": [
    "_,count = countinv(numbers,len(numbers))\n",
    "print(count)"
   ]
  },
  {
   "cell_type": "code",
   "execution_count": 39,
   "id": "a52fb9ee",
   "metadata": {},
   "outputs": [
    {
     "name": "stdout",
     "output_type": "stream",
     "text": [
      "The number of inversions is: 15\n"
     ]
    }
   ],
   "source": [
    "numbers = [6, 5, 4, 3, 2, 1]\n",
    "_, inversion_count = countinv(numbers,len(numbers))\n",
    "print(f\"The number of inversions is: {inversion_count}\")\n"
   ]
  }
 ],
 "metadata": {
  "kernelspec": {
   "display_name": "Python 3 (ipykernel)",
   "language": "python",
   "name": "python3"
  },
  "language_info": {
   "codemirror_mode": {
    "name": "ipython",
    "version": 3
   },
   "file_extension": ".py",
   "mimetype": "text/x-python",
   "name": "python",
   "nbconvert_exporter": "python",
   "pygments_lexer": "ipython3",
   "version": "3.11.4"
  }
 },
 "nbformat": 4,
 "nbformat_minor": 5
}
